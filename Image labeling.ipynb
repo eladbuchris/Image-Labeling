{
 "cells": [
  {
   "cell_type": "markdown",
   "metadata": {},
   "source": [
    "<b>Section a"
   ]
  },
  {
   "cell_type": "code",
   "execution_count": 1,
   "metadata": {},
   "outputs": [
    {
     "name": "stdout",
     "output_type": "stream",
     "text": [
      "(8000, 784) (8000,)\n"
     ]
    }
   ],
   "source": [
    "#Loading the data\n",
    "import numpy as np\n",
    "np.random.seed(42)\n",
    "from sklearn.datasets import fetch_openml\n",
    "import matplotlib.pyplot as plt\n",
    "def fetch_mnist():\n",
    "# Download MNIST dataset\n",
    "    X, y = fetch_openml('mnist_784', version=1, return_X_y=True)\n",
    "# Randomly sample 8000 images\n",
    "    np.random.seed(2)\n",
    "    indices = np.random.choice(len(X), 8000, replace=False)\n",
    "    X, y = X[indices], y[indices]\n",
    "    return X, y\n",
    "X, y = fetch_mnist()\n",
    "print(X.shape, y.shape)"
   ]
  },
  {
   "cell_type": "markdown",
   "metadata": {},
   "source": [
    "<b>Section b</b>"
   ]
  },
  {
   "cell_type": "code",
   "execution_count": 37,
   "metadata": {},
   "outputs": [
    {
     "data": {
      "image/png": "[encoded data removed]",
      "text/plain": [
       "<Figure size 936x504 with 10 Axes>"
      ]
     },
     "metadata": {
      "needs_background": "light"
     },
     "output_type": "display_data"
    }
   ],
   "source": [
    "#Plotting the first 10 pictures from the data , doing it in two parts so you could see it clearly\n",
    "#Plotting the first five pictures from the data\n",
    "f,axarr = plt.subplots(2,5)\n",
    "f.set_size_inches(13,7)\n",
    "for i in range(5):\n",
    "    axarr[0,i].imshow(np.reshape(X[i],(28,28)),cmap=\"binary\")\n",
    "    axarr[0,i].set_title('This picture label : ' +str(y[i]))\n",
    "    axarr[1,i].imshow(np.reshape(X[i+5],(28,28)),cmap=\"binary\")\n",
    "    axarr[1,i].set_title('This picture label : ' +str(y[i+5]))\n",
    "    axarr[0,i].axis(\"off\")\n",
    "    axarr[1,i].axis(\"off\")\n",
    "\n",
    "plt.show()\n",
    "#help(f)"
   ]
  },
  {
   "cell_type": "markdown",
   "metadata": {},
   "source": [
    "<b>Section c"
   ]
  },
  {
   "cell_type": "code",
   "execution_count": 37,
   "metadata": {},
   "outputs": [],
   "source": [
    "#The cross_validation_error function from the last assignment\n",
    "def cross_validation_error(X,y,model,folds):\n",
    "    '''\n",
    "    This function recieves a train data (nd array)\n",
    "    a target values for the given data (1d array)\n",
    "    the model in which it needs to classify\n",
    "    and the number of folds of the cross validation.\n",
    "    \n",
    "    Then, it runs a cross validation , by dividing the data into k folds (given to it)\n",
    "    and making a prediction on each fold at a time (training with the other folds).\n",
    "    it returns a tuple of the average train error, and average test error.\n",
    "    '''\n",
    "    k = 0\n",
    "    i = 0\n",
    "    test_error = []\n",
    "    train_error = []\n",
    "    while (k<folds):\n",
    "        X_test = X[int(i):int((len(X))/folds)+int(i),:]\n",
    "        X_train = np.delete(X, np.arange(int(i), stop=int((len(X))/folds)+int(i)), 0)\n",
    "        Y_test = y[int(i):int((len(X))/folds)+int(i)]\n",
    "        Y_train = np.delete(y, np.arange(int(i), stop=int((len(X))/folds)+int(i)))\n",
    "        model.fit(X_train,Y_train)\n",
    "        test_prediction = model.predict(X_test)\n",
    "        train_prediction = model.predict(X_train)\n",
    "        test_error.append(np.count_nonzero(np.array(test_prediction)!=Y_test)/len(Y_test))\n",
    "        train_error.append(np.count_nonzero(np.array(train_prediction)!=Y_train)/len(Y_train))\n",
    "        k = k+1\n",
    "        i = i+int(len(X)/folds)\n",
    "    average_train_error = (1/folds)*np.sum(np.array(train_error))\n",
    "    average_val_error = (1/folds)*np.sum(np.array(test_error))\n",
    "    return (average_train_error,average_val_error)      "
   ]
  },
  {
   "cell_type": "code",
   "execution_count": 77,
   "metadata": {},
   "outputs": [],
   "source": [
    "from sklearn.svm import SVC\n",
    "def SVM_results(X_train, y_train, X_test, y_test):\n",
    "    '''\n",
    "    This function runs speciefic svm models on train set.\n",
    "    It returns a dictionary with the erros produced by evaluation of cross validation and by a test set\n",
    "    '''\n",
    "    dict_of_errors ={}\n",
    "    poly_errors = []\n",
    "    RBF_erros = []\n",
    "    test_erorrs = []\n",
    "    k = 0\n",
    "    j = 1\n",
    "    d_vec = [2,4,6,8,10]\n",
    "    gama_vec = [0.001,0.01,0.1,1,10]\n",
    "    linear_default_kernel_error = cross_validation_error(X_train,y_train,SVC(kernel='linear',C = 1),5)\n",
    "    test_erorrs.append(1-SVC(kernel='linear').fit(X_train,y_train).score(X_test, y_test))\n",
    "    dict_of_errors[\"SVM_linear\"] = (linear_default_kernel_error[0],linear_default_kernel_error[1],test_erorrs[0])\n",
    "    for d in d_vec:\n",
    "        poly_errors.append(cross_validation_error(X_train,y_train,SVC(kernel='poly',degree = d),5))\n",
    "        test_erorrs.append(1-SVC(kernel='poly',degree = d).fit(X_train,y_train).score(X_test,y_test))\n",
    "        dict_of_errors[\"SVM_poly_\" + str(d)] = (poly_errors[k][0],poly_errors[k][1],test_erorrs[j])\n",
    "        k+=1\n",
    "        j+=1\n",
    "    k = 0\n",
    "    j = len(test_erorrs) \n",
    "    for gama in gama_vec:\n",
    "        RBF_erros.append(cross_validation_error(X_train,y_train,SVC(kernel='rbf',gamma = gama),5))\n",
    "        test_erorrs.append(1-SVC(kernel='rbf',gamma = gama).fit(X_train,y_train).score(X_test,y_test))\n",
    "        dict_of_errors[\"SVM_rbf_\" + str(gama)] = (RBF_erros[k][0],RBF_erros[k][1],test_erorrs[j])\n",
    "        k+=1\n",
    "        j+=1        \n",
    "    return dict_of_errors\n",
    "\n"
   ]
  },
  {
   "cell_type": "markdown",
   "metadata": {},
   "source": [
    "<b> Section d\n",
    "   "
   ]
  },
  {
   "cell_type": "code",
   "execution_count": 78,
   "metadata": {},
   "outputs": [
    {
     "data": {
      "text/plain": [
       "{'SVM_linear': (0.0, 0.08875, 0.08937499999999998),\n",
       " 'SVM_poly_2': (0.017812500000000002,\n",
       "  0.05281250000000001,\n",
       "  0.050000000000000044),\n",
       " 'SVM_poly_4': (0.027773437499999998, 0.085, 0.07999999999999996),\n",
       " 'SVM_poly_6': (0.09363281250000002, 0.185, 0.1775),\n",
       " 'SVM_poly_8': (0.15675781249999998, 0.29406250000000006, 0.28125),\n",
       " 'SVM_poly_10': (0.2004296875, 0.37203125000000004, 0.34875),\n",
       " 'SVM_rbf_0.001': (0.0, 0.88859375, 0.8981250000000001),\n",
       " 'SVM_rbf_0.01': (0.0, 0.88859375, 0.8981250000000001),\n",
       " 'SVM_rbf_0.1': (0.0, 0.88859375, 0.8981250000000001),\n",
       " 'SVM_rbf_1': (0.0, 0.88859375, 0.8981250000000001),\n",
       " 'SVM_rbf_10': (0.0, 0.88859375, 0.8981250000000001)}"
      ]
     },
     "execution_count": 78,
     "metadata": {},
     "output_type": "execute_result"
    }
   ],
   "source": [
    "#Splitting the data into test and train sets\n",
    "from sklearn.model_selection import train_test_split\n",
    "X_train, X_test, y_train, y_test = train_test_split(X, y, test_size=0.2, random_state=42)\n",
    "#calling the function that returns the errors dictionary\n",
    "errors = SVM_results(X_train, y_train, X_test, y_test)\n",
    "errors"
   ]
  },
  {
   "cell_type": "code",
   "execution_count": 84,
   "metadata": {},
   "outputs": [
    {
     "data": {
      "text/plain": [
       "Text(0, 0.5, 'error rates')"
      ]
     },
     "execution_count": 84,
     "metadata": {},
     "output_type": "execute_result"
    },
    {
     "data": {
      "image/png": "[encoded data removed]",
      "text/plain": [
       "<Figure size 720x720 with 1 Axes>"
      ]
     },
     "metadata": {
      "needs_background": "light"
     },
     "output_type": "display_data"
    }
   ],
   "source": [
    "#plotting the errors we got \n",
    "errors_data = pd.DataFrame(errors)\n",
    "errors_data = errors_data.rename(index={0: \"average_train_error\", 1: \"average_validation_error\" ,\n",
    "                                        2: \"test_error\"})\n",
    "ax = errors_data.T.plot(kind= 'bar',figsize = (10,10),title = 'Error rates vs SVM models')\n",
    "ax.set_xlabel(\"SVM models\")\n",
    "ax.set_ylabel(\"error rates\")"
   ]
  },
  {
   "cell_type": "markdown",
   "metadata": {},
   "source": [
    "We can see by the graph, that the model that gives the lowest errors is the \"SVM POLY 2\" and it does that for the test of the cross validation, and also the test error. So it is the best model from those above. As for the train, there are several models which gives zero error (Over fitting)"
   ]
  }
 ],
 "metadata": {
  "kernelspec": {
   "display_name": "Python 3",
   "language": "python",
   "name": "python3"
  },
  "language_info": {
   "codemirror_mode": {
    "name": "ipython",
    "version": 3
   },
   "file_extension": ".py",
   "mimetype": "text/x-python",
   "name": "python",
   "nbconvert_exporter": "python",
   "pygments_lexer": "ipython3",
   "version": "3.8.3"
  }
 },
 "nbformat": 4,
 "nbformat_minor": 4
}
